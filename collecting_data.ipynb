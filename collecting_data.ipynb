{
 "cells": [
  {
   "cell_type": "markdown",
   "metadata": {},
   "source": [
    "# Collecting Data\n",
    "\n",
    "The foundation of your project will be to collect appropriate data for the problem you are trying to solve. There is incredible versatility in how you can use an machine learning model. Some examples might be to predict the next social media trend, categorizing cancer cells, trying to better understand the relationship between temperature fluctuations and coffee bean growth rates, or creating a chat bot.\n",
    "\n",
    "Since we are very early in this course, and - most likely at this point - have not discussed many models, it may be difficult to know what you can do with a dataset, or what is in scope of this course. So by the nature of the course title \"Exploring Machine Learning\" we will take an explorative approach to your project. \n",
    "\n",
    "The goal of this part of the project is to explore what data sets you might be interested in, below will be questions to help guide you to selecting a category of data that you want to further explore."
   ]
  },
  {
   "cell_type": "markdown",
   "metadata": {},
   "source": [
    "## Identifying what data you want to explore\n",
    "\n",
    "Data is everywhere and there seems to be data on about anything. You might know exactly what you want to dive deeper into or you might have no idea. Either way I invite you answer the questions below.\n",
    "\n",
    "Below create a python dictionary with the key being a short summary of the topic of interest, while the value is an explanation of your interest - such as why you are interested in this topic, or why do you feel a strong passion to understand this topic. A topic of interest could be research you are conducting, a topic you are studying at your job, hobbies you have or topics surrounding your identities.\n",
    "\n",
    "List 5 topics, and for each topic put at least a 50 word description.\n",
    "\n",
    "For example I might put:\n",
    "\n",
    "```python\n",
    "interests = {\n",
    "    \"Cats\" : \"I have two cats at home, they are basically my children. I would generally like to learn more about cat behavior, health trends and pet owner behavior. It may be interesting to also see industry trends of cat owner, or how they compare to dog owners. Maybe later I want to start to write an app that recognizes cat breeds\",\n",
    "\n",
    "    \"Scuba\" : \"The study of scuba diving seems to be a 'soft' science, and there are general guidelines on when and how long you should do safety stops to avoid getting decompression sickness. Could there be links to human anatomy or behavior on how deep a person should go safely during a dive?\",\n",
    "}\n",
    "```"
   ]
  },
  {
   "cell_type": "code",
   "execution_count": 6,
   "metadata": {},
   "outputs": [],
   "source": [
    "# Do not edit the name of this function, it will be used for grading\n",
    "def what_are_topics_you_are_interested_in():\n",
    "    interests = {\n",
    "        'Neuroscience': 'Ive been fascinated with human behavior ever since my first psychology class in high school. My teacher was very passionate about the field that our classroom became more than just a space to learn-it was a space for deep discussions and debates, so much we would overextend our discussions after the last bell rang. Even though Neuroscience was not part of the curriculum, my teacher insisted we learn about this because she knew we would develop great interest in it and overall introduce us to the science behind the brain, what is known thus far. Since then, Ive developed a strong passion for understanding human behavior, and neuroscience allows me to explore this in real time. Im especially intriguied by why we do the things we do, why are their patterns amongst human personalities, how does our mind begin to forget everything we once loved? It is truly mind blowing! My goal one day is to work alongside Psychedelic Therapy or Neuroengineering to innovate new ways to treat mental illnesses and disorders.' ,\n",
    "        'Dancing': 'Dancing holds a special place in my heart. Growing up in a latin household I have always been surronded by so many different genres of music, all in which have its own dancing style to. Whether it was a family party, birthday, a graduation, etc. We would dance to bond with one another, laugh, and just have a great time overall. From a young age my older cousins began teaching me how to dance so I would be able to enjoy the family parties with them as I grew older. Little did I know this would change the course of my life! In Latin culture it is common to celebrate a girls 15th birthday as a change of a little girl to now a young woman, at these parties it is known to create a surprise dance to perform to the invitees. I had one of my own and choregraphed this alongside a family friend, then it turned to me choregraphing my neighbors 15th, another friends, and the list kept going. Eventually, I also would participate in a lot of these dances because of my ability to dance well. Overtime, I eventually began to branch out and really wanted to learn other styles of dance, I really wanted to make something out of dance because it is one of the few things I felt confident about. While this dream did not happen, I still have a strong love towards dance and hopefully in the near future, I could create a small dance academy of my own for various dancing styles for young girls and boys to pursue instead of just making it a small hobby!' , \n",
    "        'Dog Psychology': 'I have had two dogs in my life and have always been very attached to them. I cannot help but notice how intelligent dogs really are, from being able to perform tricks, chores, etc. Dogs are extremely loyal to their owner despite it not being its birth mother, its behavior is so fascinating, how did dogs come to love humans so much? Along with this, dog psychology offers insight into how dogs perceive human emotions and adapt to human environments, helping us better address issues like separation anxiety, aggression, and phobias, leading to happier, more well-adjusted pets.' ,\n",
    "        'Economics': 'A lot of people may think that economics is the study of money but really it’s the study of human behavior in the face of incentives and constraints. What I love about economics is how it helps us understands how human beings come together and form institutions like markets in an organic manner and the room this analysis gives us to create policy for human development' ,\n",
    "        'Lifting': 'Weightlifting serves as an outlet to step away from daily stress with school or work. It is one of the few times that I am able to step away from all electronics and everything and really just focus on myself and work on myself. Weightlifting allows me to challenge myself with different workouts or different lifting styles. While it is something that I use for myself, I believe it is something I could possibly use in Neuro, linking behavioral effects whether positive or negative from weightlifting.'\n",
    "        ''\n",
    "    } # Fill out your interests\n",
    "    return interests\n",
    "# Note: you can use the \\ symbol to continue your string to the next line, this makes \n",
    "# things look a bit prettier\n",
    "# Example:\n",
    "print(\"This is an \\\n",
    "      extended string \")"
   ]
  },
  {
   "cell_type": "markdown",
   "metadata": {},
   "source": [
    "## Do datasets exist for my interests?\n",
    "\n",
    "There is lots of data out there but not for everything. Below are some websites where you can take a look at available datasets. Go ahead and search for datasets related to your topic. Are there many data sets surrounding your topic? Are there many different types of data like categorical, regression, images, etc? If there are limited data sets, do you feel comfortable with the challenge of creating your own data? (Note creating your own data set to supplement existing datasets will increase your score on this assignment)\n",
    "\n",
    "> You can find a link to databases on the course page!\n",
    "\n",
    "For 3 of your topics find 3 databases you might want to use for your project. Below create a dictionary with the keys being the topic values you listed above and the value a link of 3 data bases you would like to explore. If you would like to make your own data too make add a string \"Create my own data\" to the end of the list\n",
    "\n",
    "Note, if you have trouble finding datasets for your topic you can make your dataset more general, or try a different topic. For example for my \"Cats\" topic I could expand it to \"Pets\", \"Pet Toy Sales\" or \"Pet Health Benefits\"\n",
    "\n",
    "You can always change your topic and dataset later, so don't feel that these decisions are permanent.\n",
    "\n",
    "While searching did it generate any ideas on interests or data sets you would like to explore? - If so you can add or replace a topic to the dictionary above!\n",
    "\n",
    "\n",
    "Example\"\n",
    "\n",
    "```python\n",
    "datasets = {\n",
    "    \"Cats\" : [\"https://www.kaggle.com/datasets/ma7555/cat-breeds-dataset\", \"https://example.com\", \"https://example.com\", \"Create my own data\"],\n",
    "\n",
    "    \"Second Topic\": [\"https://example.com\", \"https://example.com\", \"https://example.com\"],\n",
    "    \n",
    "    \"Third Topic\" : [\"https://example.com\", \"https://example.com\", \"https://example.com\"]\n",
    "}\n",
    "```\n"
   ]
  },
  {
   "cell_type": "code",
   "execution_count": 1,
   "metadata": {},
   "outputs": [],
   "source": [
    "def find_some_datasets():\n",
    "    datasets = {\n",
    "        'Neuroscience': ['https://plos.figshare.com/articles/dataset/How_regularity_representations_of_short_sound_patterns_that_are_based_on_relative_or_absolute_pitch_information_establish_over_time_An_EEG_study/4973753?file=8379500',\n",
    "                         'https://github.com/neural-data-science/Ch3b_materials/tree/main/data', 'https://data.mendeley.com/datasets/njyw6vdztn/1/files/8c23163f-bd1b-4f53-915a-2d6ffbbdf71c'\n",
    " ] ,\n",
    "        'Dog Psychology': ['https://data.world/len/dog-canine-breed-size-akc ', 'https://data.world/len/akc-popular-dog-breeds','https://data.world/len/dog-size-intelligence-linked' ] , \n",
    "        'Economics': ['https://fred.stlouisfed.org/series/UNEMPLOY ' , 'https://fred.stlouisfed.org/series/GDP ' , 'https://fred.stlouisfed.org/series/FEDFUNDS']\n",
    "    }\n",
    "    return datasets"
   ]
  },
  {
   "cell_type": "code",
   "execution_count": 4,
   "metadata": {},
   "outputs": [],
   "source": [
    "import cv2\n",
    "from sklearn.cluster import KMeans\n",
    "from collections import Counter\n",
    "import numpy as np\n",
    "import pandas as pd\n",
    "import os\n",
    "import matplotlib.pyplot as plt\n",
    "from sklearn.decomposition import PCA"
   ]
  },
  {
   "cell_type": "code",
   "execution_count": null,
   "metadata": {},
   "outputs": [],
   "source": [
    "def get_image(image_path):\n",
    "    image = cv2.imread(image_path)\n",
    "    image = cv2.cvtColor(image, cv2.COLOR_BGR2RGB)\n",
    "    return image\n",
    "def RGB2HEX(color):\n",
    "    return \"#{:02x}{:02x}{:02x}\".format(int(color[0]), int(color[1]), int(color[2]))"
   ]
  },
  {
   "cell_type": "code",
   "execution_count": null,
   "metadata": {},
   "outputs": [],
   "source": [
    "image = get_image('DataCollecting/blueabstract.png')\n",
    "number_of_colors = 3\n",
    "modified_image = image.reshape(image.shape[0]*image.shape[1], 3)\n",
    "clf = KMeans(n_clusters = number_of_colors)\n",
    "labels = clf.fit_predict(modified_image)"
   ]
  },
  {
   "cell_type": "code",
   "execution_count": 11,
   "metadata": {},
   "outputs": [
    {
     "data": {
      "text/plain": [
       "array([1, 1, 1, ..., 2, 2, 2], dtype=int32)"
      ]
     },
     "execution_count": 11,
     "metadata": {},
     "output_type": "execute_result"
    }
   ],
   "source": [
    "df = pd.read_csv('rgbdata/bluestarfish.jpeg.csv')\n",
    "clf.fit_predict(df.to_numpy())"
   ]
  },
  {
   "cell_type": "code",
   "execution_count": 14,
   "metadata": {},
   "outputs": [
    {
     "data": {
      "text/html": [
       "<div>\n",
       "<style scoped>\n",
       "    .dataframe tbody tr th:only-of-type {\n",
       "        vertical-align: middle;\n",
       "    }\n",
       "\n",
       "    .dataframe tbody tr th {\n",
       "        vertical-align: top;\n",
       "    }\n",
       "\n",
       "    .dataframe thead th {\n",
       "        text-align: right;\n",
       "    }\n",
       "</style>\n",
       "<table border=\"1\" class=\"dataframe\">\n",
       "  <thead>\n",
       "    <tr style=\"text-align: right;\">\n",
       "      <th></th>\n",
       "      <th>x</th>\n",
       "      <th>y</th>\n",
       "      <th>R</th>\n",
       "      <th>G</th>\n",
       "      <th>B</th>\n",
       "    </tr>\n",
       "  </thead>\n",
       "  <tbody>\n",
       "    <tr>\n",
       "      <th>0</th>\n",
       "      <td>0</td>\n",
       "      <td>0</td>\n",
       "      <td>3</td>\n",
       "      <td>2</td>\n",
       "      <td>7</td>\n",
       "    </tr>\n",
       "    <tr>\n",
       "      <th>1</th>\n",
       "      <td>1</td>\n",
       "      <td>0</td>\n",
       "      <td>3</td>\n",
       "      <td>2</td>\n",
       "      <td>7</td>\n",
       "    </tr>\n",
       "    <tr>\n",
       "      <th>2</th>\n",
       "      <td>2</td>\n",
       "      <td>0</td>\n",
       "      <td>3</td>\n",
       "      <td>3</td>\n",
       "      <td>5</td>\n",
       "    </tr>\n",
       "    <tr>\n",
       "      <th>3</th>\n",
       "      <td>3</td>\n",
       "      <td>0</td>\n",
       "      <td>3</td>\n",
       "      <td>3</td>\n",
       "      <td>3</td>\n",
       "    </tr>\n",
       "    <tr>\n",
       "      <th>4</th>\n",
       "      <td>4</td>\n",
       "      <td>0</td>\n",
       "      <td>3</td>\n",
       "      <td>3</td>\n",
       "      <td>3</td>\n",
       "    </tr>\n",
       "    <tr>\n",
       "      <th>...</th>\n",
       "      <td>...</td>\n",
       "      <td>...</td>\n",
       "      <td>...</td>\n",
       "      <td>...</td>\n",
       "      <td>...</td>\n",
       "    </tr>\n",
       "    <tr>\n",
       "      <th>2764795</th>\n",
       "      <td>1915</td>\n",
       "      <td>1439</td>\n",
       "      <td>2</td>\n",
       "      <td>6</td>\n",
       "      <td>9</td>\n",
       "    </tr>\n",
       "    <tr>\n",
       "      <th>2764796</th>\n",
       "      <td>1916</td>\n",
       "      <td>1439</td>\n",
       "      <td>2</td>\n",
       "      <td>6</td>\n",
       "      <td>9</td>\n",
       "    </tr>\n",
       "    <tr>\n",
       "      <th>2764797</th>\n",
       "      <td>1917</td>\n",
       "      <td>1439</td>\n",
       "      <td>2</td>\n",
       "      <td>6</td>\n",
       "      <td>9</td>\n",
       "    </tr>\n",
       "    <tr>\n",
       "      <th>2764798</th>\n",
       "      <td>1918</td>\n",
       "      <td>1439</td>\n",
       "      <td>2</td>\n",
       "      <td>6</td>\n",
       "      <td>9</td>\n",
       "    </tr>\n",
       "    <tr>\n",
       "      <th>2764799</th>\n",
       "      <td>1919</td>\n",
       "      <td>1439</td>\n",
       "      <td>2</td>\n",
       "      <td>6</td>\n",
       "      <td>9</td>\n",
       "    </tr>\n",
       "  </tbody>\n",
       "</table>\n",
       "<p>2764800 rows × 5 columns</p>\n",
       "</div>"
      ],
      "text/plain": [
       "            x     y  R  G  B\n",
       "0           0     0  3  2  7\n",
       "1           1     0  3  2  7\n",
       "2           2     0  3  3  5\n",
       "3           3     0  3  3  3\n",
       "4           4     0  3  3  3\n",
       "...       ...   ... .. .. ..\n",
       "2764795  1915  1439  2  6  9\n",
       "2764796  1916  1439  2  6  9\n",
       "2764797  1917  1439  2  6  9\n",
       "2764798  1918  1439  2  6  9\n",
       "2764799  1919  1439  2  6  9\n",
       "\n",
       "[2764800 rows x 5 columns]"
      ]
     },
     "execution_count": 14,
     "metadata": {},
     "output_type": "execute_result"
    }
   ],
   "source": [
    "df"
   ]
  },
  {
   "cell_type": "code",
   "execution_count": 15,
   "metadata": {},
   "outputs": [
    {
     "ename": "ValueError",
     "evalue": "Found array with dim 3. KMeans expected <= 2.",
     "output_type": "error",
     "traceback": [
      "\u001b[0;31m---------------------------------------------------------------------------\u001b[0m",
      "\u001b[0;31mValueError\u001b[0m                                Traceback (most recent call last)",
      "Cell \u001b[0;32mIn[15], line 1\u001b[0m\n\u001b[0;32m----> 1\u001b[0m \u001b[43mclf\u001b[49m\u001b[38;5;241;43m.\u001b[39;49m\u001b[43mfit_predict\u001b[49m\u001b[43m(\u001b[49m\u001b[43mget_image\u001b[49m\u001b[43m(\u001b[49m\u001b[38;5;124;43m\"\u001b[39;49m\u001b[38;5;124;43mDataCollecting/bluestarfish.jpeg\u001b[39;49m\u001b[38;5;124;43m\"\u001b[39;49m\u001b[43m)\u001b[49m\u001b[43m)\u001b[49m\n",
      "File \u001b[0;32m~/Documents/GitHub/project-collecting-data-jenny/.collecting-data/lib/python3.12/site-packages/sklearn/cluster/_kmeans.py:1070\u001b[0m, in \u001b[0;36m_BaseKMeans.fit_predict\u001b[0;34m(self, X, y, sample_weight)\u001b[0m\n\u001b[1;32m   1047\u001b[0m \u001b[38;5;28;01mdef\u001b[39;00m \u001b[38;5;21mfit_predict\u001b[39m(\u001b[38;5;28mself\u001b[39m, X, y\u001b[38;5;241m=\u001b[39m\u001b[38;5;28;01mNone\u001b[39;00m, sample_weight\u001b[38;5;241m=\u001b[39m\u001b[38;5;28;01mNone\u001b[39;00m):\n\u001b[1;32m   1048\u001b[0m \u001b[38;5;250m    \u001b[39m\u001b[38;5;124;03m\"\"\"Compute cluster centers and predict cluster index for each sample.\u001b[39;00m\n\u001b[1;32m   1049\u001b[0m \n\u001b[1;32m   1050\u001b[0m \u001b[38;5;124;03m    Convenience method; equivalent to calling fit(X) followed by\u001b[39;00m\n\u001b[0;32m   (...)\u001b[0m\n\u001b[1;32m   1068\u001b[0m \u001b[38;5;124;03m        Index of the cluster each sample belongs to.\u001b[39;00m\n\u001b[1;32m   1069\u001b[0m \u001b[38;5;124;03m    \"\"\"\u001b[39;00m\n\u001b[0;32m-> 1070\u001b[0m     \u001b[38;5;28;01mreturn\u001b[39;00m \u001b[38;5;28;43mself\u001b[39;49m\u001b[38;5;241;43m.\u001b[39;49m\u001b[43mfit\u001b[49m\u001b[43m(\u001b[49m\u001b[43mX\u001b[49m\u001b[43m,\u001b[49m\u001b[43m \u001b[49m\u001b[43msample_weight\u001b[49m\u001b[38;5;241;43m=\u001b[39;49m\u001b[43msample_weight\u001b[49m\u001b[43m)\u001b[49m\u001b[38;5;241m.\u001b[39mlabels_\n",
      "File \u001b[0;32m~/Documents/GitHub/project-collecting-data-jenny/.collecting-data/lib/python3.12/site-packages/sklearn/base.py:1473\u001b[0m, in \u001b[0;36m_fit_context.<locals>.decorator.<locals>.wrapper\u001b[0;34m(estimator, *args, **kwargs)\u001b[0m\n\u001b[1;32m   1466\u001b[0m     estimator\u001b[38;5;241m.\u001b[39m_validate_params()\n\u001b[1;32m   1468\u001b[0m \u001b[38;5;28;01mwith\u001b[39;00m config_context(\n\u001b[1;32m   1469\u001b[0m     skip_parameter_validation\u001b[38;5;241m=\u001b[39m(\n\u001b[1;32m   1470\u001b[0m         prefer_skip_nested_validation \u001b[38;5;129;01mor\u001b[39;00m global_skip_validation\n\u001b[1;32m   1471\u001b[0m     )\n\u001b[1;32m   1472\u001b[0m ):\n\u001b[0;32m-> 1473\u001b[0m     \u001b[38;5;28;01mreturn\u001b[39;00m \u001b[43mfit_method\u001b[49m\u001b[43m(\u001b[49m\u001b[43mestimator\u001b[49m\u001b[43m,\u001b[49m\u001b[43m \u001b[49m\u001b[38;5;241;43m*\u001b[39;49m\u001b[43margs\u001b[49m\u001b[43m,\u001b[49m\u001b[43m \u001b[49m\u001b[38;5;241;43m*\u001b[39;49m\u001b[38;5;241;43m*\u001b[39;49m\u001b[43mkwargs\u001b[49m\u001b[43m)\u001b[49m\n",
      "File \u001b[0;32m~/Documents/GitHub/project-collecting-data-jenny/.collecting-data/lib/python3.12/site-packages/sklearn/cluster/_kmeans.py:1464\u001b[0m, in \u001b[0;36mKMeans.fit\u001b[0;34m(self, X, y, sample_weight)\u001b[0m\n\u001b[1;32m   1436\u001b[0m \u001b[38;5;129m@_fit_context\u001b[39m(prefer_skip_nested_validation\u001b[38;5;241m=\u001b[39m\u001b[38;5;28;01mTrue\u001b[39;00m)\n\u001b[1;32m   1437\u001b[0m \u001b[38;5;28;01mdef\u001b[39;00m \u001b[38;5;21mfit\u001b[39m(\u001b[38;5;28mself\u001b[39m, X, y\u001b[38;5;241m=\u001b[39m\u001b[38;5;28;01mNone\u001b[39;00m, sample_weight\u001b[38;5;241m=\u001b[39m\u001b[38;5;28;01mNone\u001b[39;00m):\n\u001b[1;32m   1438\u001b[0m \u001b[38;5;250m    \u001b[39m\u001b[38;5;124;03m\"\"\"Compute k-means clustering.\u001b[39;00m\n\u001b[1;32m   1439\u001b[0m \n\u001b[1;32m   1440\u001b[0m \u001b[38;5;124;03m    Parameters\u001b[39;00m\n\u001b[0;32m   (...)\u001b[0m\n\u001b[1;32m   1462\u001b[0m \u001b[38;5;124;03m        Fitted estimator.\u001b[39;00m\n\u001b[1;32m   1463\u001b[0m \u001b[38;5;124;03m    \"\"\"\u001b[39;00m\n\u001b[0;32m-> 1464\u001b[0m     X \u001b[38;5;241m=\u001b[39m \u001b[38;5;28;43mself\u001b[39;49m\u001b[38;5;241;43m.\u001b[39;49m\u001b[43m_validate_data\u001b[49m\u001b[43m(\u001b[49m\n\u001b[1;32m   1465\u001b[0m \u001b[43m        \u001b[49m\u001b[43mX\u001b[49m\u001b[43m,\u001b[49m\n\u001b[1;32m   1466\u001b[0m \u001b[43m        \u001b[49m\u001b[43maccept_sparse\u001b[49m\u001b[38;5;241;43m=\u001b[39;49m\u001b[38;5;124;43m\"\u001b[39;49m\u001b[38;5;124;43mcsr\u001b[39;49m\u001b[38;5;124;43m\"\u001b[39;49m\u001b[43m,\u001b[49m\n\u001b[1;32m   1467\u001b[0m \u001b[43m        \u001b[49m\u001b[43mdtype\u001b[49m\u001b[38;5;241;43m=\u001b[39;49m\u001b[43m[\u001b[49m\u001b[43mnp\u001b[49m\u001b[38;5;241;43m.\u001b[39;49m\u001b[43mfloat64\u001b[49m\u001b[43m,\u001b[49m\u001b[43m \u001b[49m\u001b[43mnp\u001b[49m\u001b[38;5;241;43m.\u001b[39;49m\u001b[43mfloat32\u001b[49m\u001b[43m]\u001b[49m\u001b[43m,\u001b[49m\n\u001b[1;32m   1468\u001b[0m \u001b[43m        \u001b[49m\u001b[43morder\u001b[49m\u001b[38;5;241;43m=\u001b[39;49m\u001b[38;5;124;43m\"\u001b[39;49m\u001b[38;5;124;43mC\u001b[39;49m\u001b[38;5;124;43m\"\u001b[39;49m\u001b[43m,\u001b[49m\n\u001b[1;32m   1469\u001b[0m \u001b[43m        \u001b[49m\u001b[43mcopy\u001b[49m\u001b[38;5;241;43m=\u001b[39;49m\u001b[38;5;28;43mself\u001b[39;49m\u001b[38;5;241;43m.\u001b[39;49m\u001b[43mcopy_x\u001b[49m\u001b[43m,\u001b[49m\n\u001b[1;32m   1470\u001b[0m \u001b[43m        \u001b[49m\u001b[43maccept_large_sparse\u001b[49m\u001b[38;5;241;43m=\u001b[39;49m\u001b[38;5;28;43;01mFalse\u001b[39;49;00m\u001b[43m,\u001b[49m\n\u001b[1;32m   1471\u001b[0m \u001b[43m    \u001b[49m\u001b[43m)\u001b[49m\n\u001b[1;32m   1473\u001b[0m     \u001b[38;5;28mself\u001b[39m\u001b[38;5;241m.\u001b[39m_check_params_vs_input(X)\n\u001b[1;32m   1475\u001b[0m     random_state \u001b[38;5;241m=\u001b[39m check_random_state(\u001b[38;5;28mself\u001b[39m\u001b[38;5;241m.\u001b[39mrandom_state)\n",
      "File \u001b[0;32m~/Documents/GitHub/project-collecting-data-jenny/.collecting-data/lib/python3.12/site-packages/sklearn/base.py:633\u001b[0m, in \u001b[0;36mBaseEstimator._validate_data\u001b[0;34m(self, X, y, reset, validate_separately, cast_to_ndarray, **check_params)\u001b[0m\n\u001b[1;32m    631\u001b[0m         out \u001b[38;5;241m=\u001b[39m X, y\n\u001b[1;32m    632\u001b[0m \u001b[38;5;28;01melif\u001b[39;00m \u001b[38;5;129;01mnot\u001b[39;00m no_val_X \u001b[38;5;129;01mand\u001b[39;00m no_val_y:\n\u001b[0;32m--> 633\u001b[0m     out \u001b[38;5;241m=\u001b[39m \u001b[43mcheck_array\u001b[49m\u001b[43m(\u001b[49m\u001b[43mX\u001b[49m\u001b[43m,\u001b[49m\u001b[43m \u001b[49m\u001b[43minput_name\u001b[49m\u001b[38;5;241;43m=\u001b[39;49m\u001b[38;5;124;43m\"\u001b[39;49m\u001b[38;5;124;43mX\u001b[39;49m\u001b[38;5;124;43m\"\u001b[39;49m\u001b[43m,\u001b[49m\u001b[43m \u001b[49m\u001b[38;5;241;43m*\u001b[39;49m\u001b[38;5;241;43m*\u001b[39;49m\u001b[43mcheck_params\u001b[49m\u001b[43m)\u001b[49m\n\u001b[1;32m    634\u001b[0m \u001b[38;5;28;01melif\u001b[39;00m no_val_X \u001b[38;5;129;01mand\u001b[39;00m \u001b[38;5;129;01mnot\u001b[39;00m no_val_y:\n\u001b[1;32m    635\u001b[0m     out \u001b[38;5;241m=\u001b[39m _check_y(y, \u001b[38;5;241m*\u001b[39m\u001b[38;5;241m*\u001b[39mcheck_params)\n",
      "File \u001b[0;32m~/Documents/GitHub/project-collecting-data-jenny/.collecting-data/lib/python3.12/site-packages/sklearn/utils/validation.py:1058\u001b[0m, in \u001b[0;36mcheck_array\u001b[0;34m(array, accept_sparse, accept_large_sparse, dtype, order, copy, force_writeable, force_all_finite, ensure_2d, allow_nd, ensure_min_samples, ensure_min_features, estimator, input_name)\u001b[0m\n\u001b[1;32m   1053\u001b[0m     \u001b[38;5;28;01mraise\u001b[39;00m \u001b[38;5;167;01mValueError\u001b[39;00m(\n\u001b[1;32m   1054\u001b[0m         \u001b[38;5;124m\"\u001b[39m\u001b[38;5;124mdtype=\u001b[39m\u001b[38;5;124m'\u001b[39m\u001b[38;5;124mnumeric\u001b[39m\u001b[38;5;124m'\u001b[39m\u001b[38;5;124m is not compatible with arrays of bytes/strings.\u001b[39m\u001b[38;5;124m\"\u001b[39m\n\u001b[1;32m   1055\u001b[0m         \u001b[38;5;124m\"\u001b[39m\u001b[38;5;124mConvert your data to numeric values explicitly instead.\u001b[39m\u001b[38;5;124m\"\u001b[39m\n\u001b[1;32m   1056\u001b[0m     )\n\u001b[1;32m   1057\u001b[0m \u001b[38;5;28;01mif\u001b[39;00m \u001b[38;5;129;01mnot\u001b[39;00m allow_nd \u001b[38;5;129;01mand\u001b[39;00m array\u001b[38;5;241m.\u001b[39mndim \u001b[38;5;241m>\u001b[39m\u001b[38;5;241m=\u001b[39m \u001b[38;5;241m3\u001b[39m:\n\u001b[0;32m-> 1058\u001b[0m     \u001b[38;5;28;01mraise\u001b[39;00m \u001b[38;5;167;01mValueError\u001b[39;00m(\n\u001b[1;32m   1059\u001b[0m         \u001b[38;5;124m\"\u001b[39m\u001b[38;5;124mFound array with dim \u001b[39m\u001b[38;5;132;01m%d\u001b[39;00m\u001b[38;5;124m. \u001b[39m\u001b[38;5;132;01m%s\u001b[39;00m\u001b[38;5;124m expected <= 2.\u001b[39m\u001b[38;5;124m\"\u001b[39m\n\u001b[1;32m   1060\u001b[0m         \u001b[38;5;241m%\u001b[39m (array\u001b[38;5;241m.\u001b[39mndim, estimator_name)\n\u001b[1;32m   1061\u001b[0m     )\n\u001b[1;32m   1063\u001b[0m \u001b[38;5;28;01mif\u001b[39;00m force_all_finite:\n\u001b[1;32m   1064\u001b[0m     _assert_all_finite(\n\u001b[1;32m   1065\u001b[0m         array,\n\u001b[1;32m   1066\u001b[0m         input_name\u001b[38;5;241m=\u001b[39minput_name,\n\u001b[1;32m   1067\u001b[0m         estimator_name\u001b[38;5;241m=\u001b[39mestimator_name,\n\u001b[1;32m   1068\u001b[0m         allow_nan\u001b[38;5;241m=\u001b[39mforce_all_finite \u001b[38;5;241m==\u001b[39m \u001b[38;5;124m\"\u001b[39m\u001b[38;5;124mallow-nan\u001b[39m\u001b[38;5;124m\"\u001b[39m,\n\u001b[1;32m   1069\u001b[0m     )\n",
      "\u001b[0;31mValueError\u001b[0m: Found array with dim 3. KMeans expected <= 2."
     ]
    }
   ],
   "source": [
    "clf.fit_predict(get_image(\"DataCollecting/bluestarfish.jpeg\"))"
   ]
  },
  {
   "cell_type": "code",
   "execution_count": 5,
   "metadata": {},
   "outputs": [
    {
     "data": {
      "text/plain": [
       "([<matplotlib.patches.Wedge at 0x152a5ffb0>,\n",
       "  <matplotlib.patches.Wedge at 0x152aedcd0>,\n",
       "  <matplotlib.patches.Wedge at 0x152b26600>],\n",
       " [Text(-0.5645166564703731, 0.9440979528457367, '#dcf1fc'),\n",
       "  Text(0.3615148648198061, -1.0388970124677024, '#2ca2d8'),\n",
       "  Text(1.0771832817892861, -0.22288153228489724, '#036ead')])"
      ]
     },
     "execution_count": 5,
     "metadata": {},
     "output_type": "execute_result"
    },
    {
     "data": {
      "image/png": "[encoded data removed]",
      "text/plain": [
       "<Figure size 640x480 with 1 Axes>"
      ]
     },
     "metadata": {},
     "output_type": "display_data"
    }
   ],
   "source": [
    "counts = Counter(labels)\n",
    "\n",
    "center_colors = clf.cluster_centers_\n",
    "# We get ordered colors by iterating through the keys\n",
    "ordered_colors = [center_colors[i] for i in counts.keys()]\n",
    "hex_colors = [RGB2HEX(ordered_colors[i]) for i in counts.keys()]\n",
    "rgb_colors = [ordered_colors[i] for i in counts.keys()]\n",
    "plt.title('Colors Detection ($n=10$)', fontsize=20)\n",
    "plt.pie(counts.values(), labels = hex_colors, colors = hex_colors)"
   ]
  },
  {
   "cell_type": "code",
   "execution_count": null,
   "metadata": {},
   "outputs": [],
   "source": [
    "\n",
    "# Sample image array\n",
    "image_array = np.array([[[226, 242, 253],\n",
    "                         [226, 242, 253],\n",
    "                         [226, 242, 253]],\n",
    "                        [[226, 242, 253],\n",
    "                         [226, 242, 253],\n",
    "                         [226, 242, 253]]], dtype=np.uint8)\n",
    "\n",
    "# Get the height and width of the image\n",
    "height, width, _ = image_array.shape\n",
    "\n",
    "# Create lists for x, y, R, G, B values\n",
    "data = {\n",
    "    'x': [],\n",
    "    'y': [],\n",
    "    'R': [],\n",
    "    'G': [],\n",
    "    'B': []\n",
    "}\n",
    "\n",
    "# Populate the data dictionary\n",
    "for y in range(height):\n",
    "    for x in range(width):\n",
    "        r, g, b = image_array[y, x]\n",
    "        data['x'].append(x)\n",
    "        data['y'].append(y)\n",
    "        data['R'].append(r)\n",
    "        data['G'].append(g)\n",
    "        data['B'].append(b)\n",
    "\n",
    "# Create a DataFrame from the data dictionary\n",
    "df = pd.DataFrame(data)\n",
    "\n",
    "# Save to a CSV file\n",
    "df.to_csv('image_data.csv', index=False)"
   ]
  },
  {
   "cell_type": "code",
   "execution_count": null,
   "metadata": {},
   "outputs": [],
   "source": [
    "def rgbtable(array,file_name):\n",
    "    modified_image = array.reshape(array.shape[0]*array.shape[1], 3)\n",
    "    # Get the height and width of the image\n",
    "    height, width, _ = modified_image.array.shape\n",
    "    # Create lists for x, y, R, G, B values\n",
    "    data = {\n",
    "    'x': [],\n",
    "    'y': [],\n",
    "    'R': [],\n",
    "    'G': [],\n",
    "    'B': []\n",
    "}\n",
    "\n",
    "    # Populate the data dictionary\n",
    "    for y in range(height):\n",
    "        for x in range(width):\n",
    "            r, g, b = array[y, x]\n",
    "            data['x'].append(x)\n",
    "            data['y'].append(y)\n",
    "            data['R'].append(r)\n",
    "            data['G'].append(g)\n",
    "            data['B'].append(b)\n",
    "\n",
    "    # Create a DataFrame from the data dictionary\n",
    "    df = pd.DataFrame(data)\n",
    "\n",
    "    # Save to a CSV file\n",
    "    df.to_csv('rgbdata/'+ file_name + '.csv', index=False)"
   ]
  },
  {
   "cell_type": "code",
   "execution_count": 6,
   "metadata": {},
   "outputs": [
    {
     "name": "stdout",
     "output_type": "stream",
     "text": [
      "DataCollecting/redcircle.jpeg\n",
      "DataCollecting/bluetree.jpeg\n",
      "DataCollecting/blueabstract.png\n",
      "DataCollecting/bluestarfish.jpeg\n",
      "DataCollecting/bluerosa.jpeg\n",
      "DataCollecting/greenlines.jpeg\n",
      "DataCollecting/greenleaves.jpeg\n",
      "DataCollecting/redngreencircle.jpeg\n",
      "DataCollecting/greenabstract.jpeg\n"
     ]
    }
   ],
   "source": [
    "# Path to your folder with images\n",
    "folder_path = 'DataCollecting/'\n",
    "\n",
    "# Loop through all files in the folder\n",
    "for filename in os.listdir(folder_path):\n",
    "    # Only process files that are images (you can adjust the extensions if needed)\n",
    "    if filename.endswith('.png') or filename.endswith('.jpg') or filename.endswith('.jpeg'):\n",
    "        # Load the image\n",
    "        image_path = os.path.join(folder_path, filename)\n",
    "        print(image_path)\n",
    "        image = get_image(image_path)\n",
    "        \n",
    "        # Call the rgbtable function with the image and the file name\n",
    "        rgbtable(image, file_name=filename)"
   ]
  },
  {
   "cell_type": "code",
   "execution_count": null,
   "metadata": {},
   "outputs": [
    {
     "data": {
      "image/png": "[encoded data removed]",
      "text/plain": [
       "<Figure size 640x480 with 1 Axes>"
      ]
     },
     "metadata": {},
     "output_type": "display_data"
    }
   ],
   "source": [
    "\n",
    "\n",
    "df = pd.read_csv(\"rgbdata/blueabstract.png.csv\")\n",
    "\n",
    "# Creating the X \n",
    "X = np.array(df, dtype=np.float64)\n",
    "\n",
    "# Making the model, standard parameters for now\n",
    "model = KMeans(n_clusters=3, random_state=42)\n",
    "\n",
    "# Training the model\n",
    "os.environ[\"OMP_NUM_THREADS\"] = \"1\"  # Line to fix memory leak warning\n",
    "model.fit(X)\n",
    "\n",
    "inertia = np.array([])\n",
    "n_clusters = np.arange(1, 31)\n",
    "\n",
    "for i in n_clusters:\n",
    "    model = KMeans(n_clusters=i, random_state=42)\n",
    "    model.fit(X)\n",
    "    inertia = np.append(inertia, model.inertia_)\n",
    "\n",
    "# Plotting inertia vs n_clusters\n",
    "plt.plot(n_clusters, inertia, color=\"green\")\n",
    "plt.show()\n"
   ]
  },
  {
   "cell_type": "code",
   "execution_count": null,
   "metadata": {},
   "outputs": [],
   "source": [
    "#2. K means clustering based off website plays mentioned\n",
    "from sklearn.datasets import make_blobs\n",
    "X, y_true = make_blobs(n_samples=52, centers=5,\n",
    "                       cluster_std=0.15, random_state=0)\n",
    "plt.figure()\n",
    "plt.scatter(X[:,0], X[:,1], s=50)\n",
    "plt.show() "
   ]
  },
  {
   "cell_type": "markdown",
   "metadata": {},
   "source": [
    "## Asking questions about your dataset\n",
    "\n",
    "Some questions you might want to ask for each dataset are:\n",
    "- Who created this dataset?\n",
    "- When was this dataset created?\n",
    "- Could there be any biases when creating this dataset?\n",
    "- How was this data collected?\n",
    "- Is this data representative of the problem I am trying to solve?\n"
   ]
  }
 ],
 "metadata": {
  "kernelspec": {
   "display_name": ".collecting-data",
   "language": "python",
   "name": "python3"
  },
  "language_info": {
   "codemirror_mode": {
    "name": "ipython",
    "version": 3
   },
   "file_extension": ".py",
   "mimetype": "text/x-python",
   "name": "python",
   "nbconvert_exporter": "python",
   "pygments_lexer": "ipython3",
   "version": "3.12.5"
  }
 },
 "nbformat": 4,
 "nbformat_minor": 2
}
