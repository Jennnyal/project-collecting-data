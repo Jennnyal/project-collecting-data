{
 "cells": [
  {
   "cell_type": "markdown",
   "metadata": {},
   "source": [
    "# Collecting Data\n",
    "\n",
    "The foundation of your project will be to collect appropriate data for the problem you are trying to solve. There is incredible versatility in how you can use an machine learning model. Some examples might be to predict the next social media trend, categorizing cancer cells, trying to better understand the relationship between temperature fluctuations and coffee bean growth rates, or creating a chat bot.\n",
    "\n",
    "Since we are very early in this course, and - most likely at this point - have not discussed many models, it may be difficult to know what you can do with a dataset, or what is in scope of this course. So by the nature of the course title \"Exploring Machine Learning\" we will take an explorative approach to your project. \n",
    "\n",
    "The goal of this part of the project is to explore what data sets you might be interested in, below will be questions to help guide you to selecting a category of data that you want to further explore."
   ]
  },
  {
   "cell_type": "markdown",
   "metadata": {},
   "source": [
    "## Identifying what data you want to explore\n",
    "\n",
    "Data is everywhere and there seems to be data on about anything. You might know exactly what you want to dive deeper into or you might have no idea. Either way I invite you answer the questions below.\n",
    "\n",
    "Below create a python dictionary with the key being a short summary of the topic of interest, while the value is an explanation of your interest - such as why you are interested in this topic, or why do you feel a strong passion to understand this topic. A topic of interest could be research you are conducting, a topic you are studying at your job, hobbies you have or topics surrounding your identities.\n",
    "\n",
    "List 5 topics, and for each topic put at least a 50 word description.\n",
    "\n",
    "For example I might put:\n",
    "\n",
    "```python\n",
    "interests = {\n",
    "    \"Cats\" : \"I have two cats at home, they are basically my children. I would generally like to learn more about cat behavior, health trends and pet owner behavior. It may be interesting to also see industry trends of cat owner, or how they compare to dog owners. Maybe later I want to start to write an app that recognizes cat breeds\",\n",
    "\n",
    "    \"Scuba\" : \"The study of scuba diving seems to be a 'soft' science, and there are general guidelines on when and how long you should do safety stops to avoid getting decompression sickness. Could there be links to human anatomy or behavior on how deep a person should go safely during a dive?\",\n",
    "}\n",
    "```"
   ]
  },
  {
   "cell_type": "code",
   "execution_count": 6,
   "metadata": {},
   "outputs": [],
   "source": [
    "# Do not edit the name of this function, it will be used for grading\n",
    "def what_are_topics_you_are_interested_in():\n",
    "    interests = {\n",
    "        'Neuroscience': 'Ive been fascinated with human behavior ever since my first psychology class in high school. My teacher was very passionate about the field that our classroom became more than just a space to learn-it was a space for deep discussions and debates, so much we would overextend our discussions after the last bell rang. Even though Neuroscience was not part of the curriculum, my teacher insisted we learn about this because she knew we would develop great interest in it and overall introduce us to the science behind the brain, what is known thus far. Since then, Ive developed a strong passion for understanding human behavior, and neuroscience allows me to explore this in real time. Im especially intriguied by why we do the things we do, why are their patterns amongst human personalities, how does our mind begin to forget everything we once loved? It is truly mind blowing! My goal one day is to work alongside Psychedelic Therapy or Neuroengineering to innovate new ways to treat mental illnesses and disorders.' ,\n",
    "        'Dancing': 'Dancing holds a special place in my heart. Growing up in a latin household I have always been surronded by so many different genres of music, all in which have its own dancing style to. Whether it was a family party, birthday, a graduation, etc. We would dance to bond with one another, laugh, and just have a great time overall. From a young age my older cousins began teaching me how to dance so I would be able to enjoy the family parties with them as I grew older. Little did I know this would change the course of my life! In Latin culture it is common to celebrate a girls 15th birthday as a change of a little girl to now a young woman, at these parties it is known to create a surprise dance to perform to the invitees. I had one of my own and choregraphed this alongside a family friend, then it turned to me choregraphing my neighbors 15th, another friends, and the list kept going. Eventually, I also would participate in a lot of these dances because of my ability to dance well. Overtime, I eventually began to branch out and really wanted to learn other styles of dance, I really wanted to make something out of dance because it is one of the few things I felt confident about. While this dream did not happen, I still have a strong love towards dance and hopefully in the near future, I could create a small dance academy of my own for various dancing styles for young girls and boys to pursue instead of just making it a small hobby!' , \n",
    "        'Dog Psychology': 'I have had two dogs in my life and have always been very attached to them. I cannot help but notice how intelligent dogs really are, from being able to perform tricks, chores, etc. Dogs are extremely loyal to their owner despite it not being its birth mother, its behavior is so fascinating, how did dogs come to love humans so much? Along with this, dog psychology offers insight into how dogs perceive human emotions and adapt to human environments, helping us better address issues like separation anxiety, aggression, and phobias, leading to happier, more well-adjusted pets.' ,\n",
    "        'Economics': 'A lot of people may think that economics is the study of money but really it’s the study of human behavior in the face of incentives and constraints. What I love about economics is how it helps us understands how human beings come together and form institutions like markets in an organic manner and the room this analysis gives us to create policy for human development' ,\n",
    "        'Lifting': 'Weightlifting serves as an outlet to step away from daily stress with school or work. It is one of the few times that I am able to step away from all electronics and everything and really just focus on myself and work on myself. Weightlifting allows me to challenge myself with different workouts or different lifting styles. While it is something that I use for myself, I believe it is something I could possibly use in Neuro, linking behavioral effects whether positive or negative from weightlifting.'\n",
    "        ''\n",
    "    } # Fill out your interests\n",
    "    return interests\n",
    "# Note: you can use the \\ symbol to continue your string to the next line, this makes \n",
    "# things look a bit prettier\n",
    "# Example:\n",
    "print(\"This is an \\\n",
    "      extended string \")"
   ]
  },
  {
   "cell_type": "markdown",
   "metadata": {},
   "source": [
    "## Do datasets exist for my interests?\n",
    "\n",
    "There is lots of data out there but not for everything. Below are some websites where you can take a look at available datasets. Go ahead and search for datasets related to your topic. Are there many data sets surrounding your topic? Are there many different types of data like categorical, regression, images, etc? If there are limited data sets, do you feel comfortable with the challenge of creating your own data? (Note creating your own data set to supplement existing datasets will increase your score on this assignment)\n",
    "\n",
    "> You can find a link to databases on the course page!\n",
    "\n",
    "For 3 of your topics find 3 databases you might want to use for your project. Below create a dictionary with the keys being the topic values you listed above and the value a link of 3 data bases you would like to explore. If you would like to make your own data too make add a string \"Create my own data\" to the end of the list\n",
    "\n",
    "Note, if you have trouble finding datasets for your topic you can make your dataset more general, or try a different topic. For example for my \"Cats\" topic I could expand it to \"Pets\", \"Pet Toy Sales\" or \"Pet Health Benefits\"\n",
    "\n",
    "You can always change your topic and dataset later, so don't feel that these decisions are permanent.\n",
    "\n",
    "While searching did it generate any ideas on interests or data sets you would like to explore? - If so you can add or replace a topic to the dictionary above!\n",
    "\n",
    "\n",
    "Example\"\n",
    "\n",
    "```python\n",
    "datasets = {\n",
    "    \"Cats\" : [\"https://www.kaggle.com/datasets/ma7555/cat-breeds-dataset\", \"https://example.com\", \"https://example.com\", \"Create my own data\"],\n",
    "\n",
    "    \"Second Topic\": [\"https://example.com\", \"https://example.com\", \"https://example.com\"],\n",
    "    \n",
    "    \"Third Topic\" : [\"https://example.com\", \"https://example.com\", \"https://example.com\"]\n",
    "}\n",
    "```\n"
   ]
  },
  {
   "cell_type": "code",
   "execution_count": 1,
   "metadata": {},
   "outputs": [],
   "source": [
    "def find_some_datasets():\n",
    "    datasets = {\n",
    "        'Neuroscience': ['https://plos.figshare.com/articles/dataset/How_regularity_representations_of_short_sound_patterns_that_are_based_on_relative_or_absolute_pitch_information_establish_over_time_An_EEG_study/4973753?file=8379500',\n",
    "                         'https://github.com/neural-data-science/Ch3b_materials/tree/main/data', 'https://data.mendeley.com/datasets/njyw6vdztn/1/files/8c23163f-bd1b-4f53-915a-2d6ffbbdf71c'\n",
    " ] ,\n",
    "        'Dog Psychology': ['https://data.world/len/dog-canine-breed-size-akc ', 'https://data.world/len/akc-popular-dog-breeds','https://data.world/len/dog-size-intelligence-linked' ] , \n",
    "        'Economics': ['https://fred.stlouisfed.org/series/UNEMPLOY ' , 'https://fred.stlouisfed.org/series/GDP ' , 'https://fred.stlouisfed.org/series/FEDFUNDS']\n",
    "    }\n",
    "    return datasets"
   ]
  },
  {
   "cell_type": "markdown",
   "metadata": {},
   "source": [
    "## Asking questions about your dataset\n",
    "\n",
    "Some questions you might want to ask for each dataset are:\n",
    "- Who created this dataset?\n",
    "- When was this dataset created?\n",
    "- Could there be any biases when creating this dataset?\n",
    "- How was this data collected?\n",
    "- Is this data representative of the problem I am trying to solve?\n"
   ]
  }
 ],
 "metadata": {
  "kernelspec": {
   "display_name": "Python 3",
   "language": "python",
   "name": "python3"
  },
  "language_info": {
   "codemirror_mode": {
    "name": "ipython",
    "version": 3
   },
   "file_extension": ".py",
   "mimetype": "text/x-python",
   "name": "python",
   "nbconvert_exporter": "python",
   "pygments_lexer": "ipython3",
   "version": "3.12.5"
  }
 },
 "nbformat": 4,
 "nbformat_minor": 2
}
